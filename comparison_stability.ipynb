{
 "cells": [
  {
   "cell_type": "code",
   "execution_count": 1,
   "metadata": {},
   "outputs": [],
   "source": [
    "import pm4py\n",
    "\n",
    "from analysis import Analysis\n",
    "from G2_AlphaAlgorithm import G2_AlphaAlgorithm"
   ]
  },
  {
   "cell_type": "code",
   "execution_count": 2,
   "metadata": {},
   "outputs": [
    {
     "name": "stderr",
     "output_type": "stream",
     "text": [
      "c:\\Users\\Dell\\.virtualenvs\\Exercise_2-4Fg8dMWk\\lib\\site-packages\\tqdm\\auto.py:22: TqdmWarning: IProgress not found. Please update jupyter and ipywidgets. See https://ipywidgets.readthedocs.io/en/stable/user_install.html\n",
      "  from .autonotebook import tqdm as notebook_tqdm\n",
      "parsing log, completed traces :: 100%|██████████| 13087/13087 [00:09<00:00, 1368.52it/s]\n"
     ]
    },
    {
     "name": "stdout",
     "output_type": "stream",
     "text": [
      "Run analysis on BPI2012\n",
      "-----------------------\n",
      "\n",
      "Running algo G2 alpha 1/3\n"
     ]
    },
    {
     "name": "stderr",
     "output_type": "stream",
     "text": [
      "replaying log with TBR, completed variants :: 100%|██████████| 4366/4366 [00:10<00:00, 433.47it/s]\n"
     ]
    },
    {
     "name": "stdout",
     "output_type": "stream",
     "text": [
      "Running algo G2 alpha 2/3\n"
     ]
    },
    {
     "name": "stderr",
     "output_type": "stream",
     "text": [
      "replaying log with TBR, completed variants :: 100%|██████████| 4366/4366 [00:13<00:00, 323.15it/s]\n"
     ]
    },
    {
     "name": "stdout",
     "output_type": "stream",
     "text": [
      "Running algo G2 alpha 3/3\n"
     ]
    },
    {
     "name": "stderr",
     "output_type": "stream",
     "text": [
      "replaying log with TBR, completed variants :: 100%|██████████| 4366/4366 [00:15<00:00, 279.66it/s]\n"
     ]
    }
   ],
   "source": [
    "# Algorithm names\n",
    "G2_ALPHA = \"G2 alpha\"\n",
    "ALPHA = \"alpha\"\n",
    "ALPHA_PLUS = \"alpha plus\"\n",
    "HEURISTIC = \"heuristic\"\n",
    "INDUCTIVE = \"inductive\"\n",
    "\n",
    "\n",
    "analysis_bpi2012 = Analysis(\"logs/BPI_Challenge_2012.xes.gz\", is_status_logging_on=False)\n",
    "# analysis_bpi2017 = Analysis(\"logs/BPI Challenge 2017.xes.gz\", is_status_logging_on=False)\n",
    "\n",
    "g2_alpha = G2_AlphaAlgorithm(1, 1)\n",
    "# algo_functions = [(G2_ALPHA, g2_alpha.createPetriNet),\n",
    "#                   (ALPHA, pm4py.discover_petri_net_alpha)]\n",
    "algo_functions = [(G2_ALPHA, g2_alpha.createPetriNet)]\n",
    "\n",
    "analysis_bpi2012.add_algo_functions(algo_functions)\n",
    "# analysis_bpi2017.add_algo_functions(algo_functions)\n",
    "\n",
    "print(\"Run analysis on BPI2012\\n-----------------------\\n\")\n",
    "analysis_bpi2012.run(stability_test_runs=3)\n",
    "\n",
    "# print(\"\\n\\nRun analysis on BPI2017\\n-----------------------\\n\")\n",
    "# analysis_bpi2017.run(stability_test_runs=3)"
   ]
  },
  {
   "cell_type": "code",
   "execution_count": 4,
   "metadata": {},
   "outputs": [
    {
     "name": "stdout",
     "output_type": "stream",
     "text": [
      "BPI 2012\n"
     ]
    },
    {
     "data": {
      "image/png": "[encoded data removed]",
      "text/plain": [
       "<Figure size 900x240 with 2 Axes>"
      ]
     },
     "metadata": {},
     "output_type": "display_data"
    },
    {
     "name": "stdout",
     "output_type": "stream",
     "text": [
      "\n",
      "BPI 2017\n"
     ]
    },
    {
     "ename": "NameError",
     "evalue": "name 'analysis_bpi2017' is not defined",
     "output_type": "error",
     "traceback": [
      "\u001b[1;31m---------------------------------------------------------------------------\u001b[0m",
      "\u001b[1;31mNameError\u001b[0m                                 Traceback (most recent call last)",
      "Cell \u001b[1;32mIn [4], line 5\u001b[0m\n\u001b[0;32m      2\u001b[0m analysis_bpi2012\u001b[39m.\u001b[39mshow_stability_graphs()\n\u001b[0;32m      4\u001b[0m \u001b[39mprint\u001b[39m(\u001b[39m\"\u001b[39m\u001b[39m\\n\u001b[39;00m\u001b[39mBPI 2017\u001b[39m\u001b[39m\"\u001b[39m)\n\u001b[1;32m----> 5\u001b[0m analysis_bpi2017\u001b[39m.\u001b[39mshow_stability_graphs()\n",
      "\u001b[1;31mNameError\u001b[0m: name 'analysis_bpi2017' is not defined"
     ]
    }
   ],
   "source": [
    "print(\"BPI 2012\")\n",
    "analysis_bpi2012.show_stability_graphs()\n",
    "\n",
    "print(\"\\nBPI 2017\")\n",
    "analysis_bpi2017.show_stability_graphs()"
   ]
  }
 ],
 "metadata": {
  "kernelspec": {
   "display_name": "Python 3.10.0 ('Exercise_2-4Fg8dMWk')",
   "language": "python",
   "name": "python3"
  },
  "language_info": {
   "codemirror_mode": {
    "name": "ipython",
    "version": 3
   },
   "file_extension": ".py",
   "mimetype": "text/x-python",
   "name": "python",
   "nbconvert_exporter": "python",
   "pygments_lexer": "ipython3",
   "version": "3.10.0"
  },
  "orig_nbformat": 4,
  "vscode": {
   "interpreter": {
    "hash": "6f8b0c1deae931940e9aa84b5a92bef808bb697eb1019b521198f70ff1800668"
   }
  }
 },
 "nbformat": 4,
 "nbformat_minor": 2
}
